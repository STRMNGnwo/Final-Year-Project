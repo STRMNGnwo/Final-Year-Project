{
  "cells": [
    {
      "cell_type": "markdown",
      "metadata": {
        "id": "view-in-github",
        "colab_type": "text"
      },
      "source": [
        "<a href=\"https://colab.research.google.com/github/STRMNGnwo/Final-Year-Project/blob/main/SummerResearch_Custommodel.ipynb\" target=\"_parent\"><img src=\"https://colab.research.google.com/assets/colab-badge.svg\" alt=\"Open In Colab\"/></a>"
      ]
    },
    {
      "cell_type": "markdown",
      "metadata": {
        "id": "WMzQ6VgzgbpC"
      },
      "source": [
        "# **Mounting the Google Drive where the dataset is stored, after being processed by the Local stage of the pre-processing pipeline.**"
      ]
    },
    {
      "cell_type": "code",
      "execution_count": null,
      "metadata": {
        "id": "oM0-aLwOs3eh"
      },
      "outputs": [],
      "source": [
        "from google.colab import files\n",
        "from google.colab import drive\n",
        "\n",
        "#files.upload()\n",
        "\n",
        "#g drive file path to total dataset /content/drive/MyDrive/FYP-Aortic_Dissection_Segmentation/datasets\n",
        "#g drive file path to split dataset /content/drive/MyDrive/FYP-Aortic_Dissection_Segmentation/Split_Patients\n",
        "#g drive file path to split dataset /content/drive/MyDrive/FYP-Aortic_Dissection_Segmentation/\n",
        "drive.mount(\"/content/drive/\")\n"
      ]
    },
    {
      "cell_type": "markdown",
      "metadata": {
        "id": "uDoXzXV7gs3I"
      },
      "source": [
        "# **Importing the required libraries**"
      ]
    },
    {
      "cell_type": "code",
      "execution_count": null,
      "metadata": {
        "id": "BdCHmab5stpj"
      },
      "outputs": [],
      "source": [
        "!pip install torchmetrics\n",
        "#importing the required modules to create the U-Net model\n",
        "import torch, torchvision\n",
        "from torch.nn import Module\n",
        "from torch.nn import Conv2d #The convolutional layer used in the U-Net architecture\n",
        "from torch.nn import ReLU #activation function\n",
        "from torch.nn import BatchNorm1d, BatchNorm2d\n",
        "from torch.nn import Sequential\n",
        "from torch.nn import functional as f #to make the fully connected layer\n",
        "from torch.nn import ConvTranspose2d\n",
        "from torch.nn import MaxPool2d #max pooling layer that is implemented after Conv2d layers\n",
        "from torchvision import transforms as transforms\n",
        "from torch.utils.data import DataLoader\n",
        "from PIL import Image\n",
        "import numpy as np\n",
        "from matplotlib import pyplot as plt\n",
        "import tqdm\n",
        "\n",
        "import os\n",
        "import sys\n",
        "\n",
        "sys.path.insert(0, '/content/drive/MyDrive/FYP-Aortic_Dissection_Segmentation/')\n",
        "\n",
        "#from CustomDataset import SegmentationCTADataset\n",
        "from CustomDataset_Simplified import CTADataset\n",
        "#from split_patients import remove_DS_Store, split_patients, copy_collate_datasets\n",
        "\n",
        "if torch.cuda.is_available():\n",
        "  device=torch.device(\"cuda\")\n",
        "  torch.cuda.get_device_name(0)\n",
        "  print(\"GPU\")\n",
        "\n",
        "else:\n",
        "  device=\"cpu\"\n",
        "  print(\"CPU\")\n",
        "\n"
      ]
    },
    {
      "cell_type": "markdown",
      "metadata": {
        "id": "zUu3SuR5stpz"
      },
      "source": [
        "# **Importing the dataset data by unzipping the prepared dataset file in the Google Drive.**\n",
        "\n",
        "The dataset has been split into train,test and val sets."
      ]
    },
    {
      "cell_type": "code",
      "execution_count": null,
      "metadata": {
        "id": "XFXz_lKvstpz"
      },
      "outputs": [],
      "source": [
        "\n",
        "!unzip /content/drive/MyDrive/FYP-Aortic_Dissection_Segmentation/Refined_Dataset.zip\n",
        "\n",
        "#unzip /content/drive/MyDrive/FYP-Aortic_Dissection_Segmentation/Sample_Prepared_Dataset.zip\n",
        "\n",
        "#unzip /content/drive/MyDrive/FYP-Aortic_Dissection_Segmentation/SampleTrain.zip\n"
      ]
    },
    {
      "cell_type": "markdown",
      "metadata": {
        "id": "52R9wpR6stpp"
      },
      "source": [
        "# **Sliding Window CNNS**\n",
        "\n",
        "Sliding Window CNNs involve dividing an input image into \"patches\" of pixels, passing each pixel into a CNN, and assigning a class label to the pixel. Their main benefit is that they can localize, and they can also result in more training data being available as a result of the patches being made. However they are very slow and computationally expensive.\n",
        "\n",
        "Localization -> assigning a class label to a region of pixels on a pixel-by-pixel basis.\n",
        "\n",
        "Trade-off between localization accuracy and the context available to the CNN-> exists due to varying patch sizes. Large Patch sizes allow for greater context, but lower localization accuracy and vice-versa."
      ]
    },
    {
      "cell_type": "markdown",
      "metadata": {
        "id": "P-fubXaSstpr"
      },
      "source": [
        "# **The U-NET Architecture:**\n",
        "\n",
        "Consists of a contracting path that identifies context (descending/encoding) and a symmetrical expanding path that enables precise localization\n",
        "of contours. U-NET is popular for medical image segmentation and is proven to be better than sliding window CNNs.\n",
        "\n",
        "The Descending section:\n",
        "\n",
        "The descending section of the architecture consists of convolutional layers that are followed by max-pooling layers .\n",
        "This pattern (Conv,Conv,Max-Pool) repeats.\n",
        "The input image is down-sampled (image size reduces but the number of channels increases).\n",
        "After convolutions ->the number of channels seems to increase.\n",
        "After max-pooling -> the image size decreases.\n",
        "\n",
        "---------------------------\n",
        "The Ascending section:\n",
        "\n",
        "Consists of an expanding path, made up of convolutional layers and transposed convolutional layers(that upsample, ie increasing image size).\n",
        "The Conv. layers in this section seem to reduce the number of channels\n"
      ]
    },
    {
      "cell_type": "markdown",
      "metadata": {
        "id": "FIKL9PWshbYL"
      },
      "source": [
        "# **Building the Model**"
      ]
    },
    {
      "cell_type": "markdown",
      "metadata": {
        "id": "wqFivCvAiG6X"
      },
      "source": [
        "# **The Block class**\n",
        "\n",
        "Used by Encoder, Bottleneck and Decoder sections to performs Double Convolutions."
      ]
    },
    {
      "cell_type": "code",
      "execution_count": 4,
      "metadata": {
        "id": "MiJ5SEZCstpt"
      },
      "outputs": [],
      "source": [
        "#Building block of both Encoder section and Decoder section.\n",
        "#At a high level: Encoder= Block +downsampling (max_pooling), Decoder= upsampling+ skip connection concatenation + Block\n",
        "# Block -> Double Convolutional layers, with Batch Normalisation and ReLU activation functions between them.\n",
        "class Block(Module):\n",
        "\n",
        "    def __init__(self, in_channels,out_channels):\n",
        "\n",
        "        super().__init__()\n",
        "\n",
        "        self.conv=Sequential(\n",
        "            #Conv1\n",
        "            #in_channels,out_channels,filter_size(kernel),stride,padding(same padding=1), bias\n",
        "            Conv2d(in_channels,out_channels,kernel_size=3,stride=1,padding=1,bias=False), # bias is false because batch normalisation is used in the next step and it cancels out bias\n",
        "            BatchNorm2d(out_channels),\n",
        "            ReLU(inplace=True),\n",
        "\n",
        "            #Conv2\n",
        "            Conv2d(out_channels,out_channels,kernel_size=3,stride=1,padding=1,bias=False), #bias=False because batch normalisation is used in the next step and it cancels out bias\n",
        "            BatchNorm2d(out_channels),\n",
        "            ReLU(inplace=True)\n",
        "        )\n",
        "\n",
        "    def forward(self,x):\n",
        "        return self.conv(x)"
      ]
    },
    {
      "cell_type": "markdown",
      "metadata": {
        "id": "B1ckutZEh72A"
      },
      "source": [
        "# The Encoder class\n",
        "\n",
        "Represents the Encoder section of the U-NET architecture."
      ]
    },
    {
      "cell_type": "code",
      "execution_count": 5,
      "metadata": {
        "id": "8TQ6Lemastpv"
      },
      "outputs": [],
      "source": [
        "#the descending section made of conv.layers and max-pool layers.\n",
        "#The Encoder consists of multiple \"blocks\"  which consist of down-sampling and convolutional layers.\n",
        "#The Encoder reduces the spatial dimension and obtains information about the mask area/region of interest.\n",
        "class Encoder(Module):\n",
        "\n",
        "    def  __init__(self,encoding_channels=(1,64,128,256,512)): # default values for the encoding channels.\n",
        "\n",
        "        super().__init__()\n",
        "\n",
        "        self.channels=encoding_channels\n",
        "        self.encoding_blocks=torch.nn.ModuleList()\n",
        "\n",
        "        for i in range(0,len(self.channels)-1):\n",
        "            in_channel=self.channels[i]\n",
        "            out_channel=self.channels[i+1]\n",
        "            self.encoding_blocks.append(Block(in_channel,out_channel)) #appending the convolution2d blocks of the encoder section to the modulelist\n",
        "\n",
        "        self.pool= MaxPool2d(kernel_size=2,stride=2) #reduces spatial dimensions by a factor of 2 each time it is called\n",
        "\n",
        "\n",
        "    def forward(self,x):\n",
        "        #intermediary results between blocks (Skip Connections) are stored here\n",
        "        block_outputs=[]\n",
        "\n",
        "        for block in self.encoding_blocks:\n",
        "\n",
        "            #print(\"Data before pooling and before convolutions\",x.shape)\n",
        "            x=block(x) # the block's forward method is implicitly called.\n",
        "\n",
        "            #print(\"Data before pooling and after convolutions\",x.shape)\n",
        "\n",
        "            #adding the block output to the list\n",
        "            block_outputs.append(x)\n",
        "\n",
        "            #sending the output of the block to the max pooling layer\n",
        "            x=self.pool(x)\n",
        "            #print(\"Data after pooling\",x.shape)\n",
        "\n",
        "    #return the final form of the data and the intermediary results (skip-connections used in the Decoder section, in the U-NET architecture paper)\n",
        "        return [x,block_outputs]\n"
      ]
    },
    {
      "cell_type": "markdown",
      "metadata": {
        "id": "iv9UnuKRiXoJ"
      },
      "source": [
        "# **The Decoder class**\n",
        "\n",
        "Represents the Decoder section of the U-NET architecture."
      ]
    },
    {
      "cell_type": "code",
      "execution_count": 6,
      "metadata": {
        "id": "tCKt9ZaPstpw"
      },
      "outputs": [],
      "source": [
        "#The Decoder class has Decoder blocks to take in input data and skip connections, perform upsampling, concatenation of skip connection to data and Conv2D.\n",
        "#The Decoder upsamples the localized information and provides context.\n",
        "class Decoder(Module):\n",
        "\n",
        "    def __init__(self,decoding_channels=(512,256,128,64,2)): #2 is the final one because of 2 classes-> TL and FL\n",
        "\n",
        "        super().__init__()\n",
        "\n",
        "        self.channels=decoding_channels\n",
        "        self.decoding_blocks=torch.nn.ModuleList()\n",
        "\n",
        "        #upsampling going to use transpose convolutional layers. Can also use bilinear + convolution\n",
        "        self.upconvolutions=torch.nn.ModuleList()\n",
        "\n",
        "        #making the up-sampling layers and the decoding blocks\n",
        "        for i in range(0,len(decoding_channels)-1):\n",
        "            in_channel=self.channels[i]\n",
        "            out_channel=self.channels[i+1]\n",
        "            self.decoding_blocks.append(Block(in_channel,out_channel))\n",
        "\n",
        "            #NOTE due to the skip connections having to be added, would in_channel(first param below)  have to be *2\n",
        "            self.upconvolutions.append(ConvTranspose2d(self.channels[i],self.channels[i+1],kernel_size=2,stride=2))\n",
        "\n",
        "\n",
        "    def forward(self,x,encoder_intermediary_outputs):#encoder_intermediary_outputs are the list of skip connections from the encoder.\n",
        "\n",
        "        #print(\"\\n--------------Decoder------------------------\")\n",
        "        #print(\"Data in decoder\")\n",
        "\n",
        "        # for skipconnection in encoder_intermediary_outputs:\n",
        "        #     print(\"Shape of skip connection: \",skipconnection.shape)\n",
        "\n",
        "        for i in range (len(self.upconvolutions)):\n",
        "\n",
        "            #print(\"Data shape before upsampling\",x.shape)\n",
        "\n",
        "            #using a transpose convolution to upsample the data (should )\n",
        "            x=self.upconvolutions[i](x)\n",
        "\n",
        "            #print(\"Data shape after upsampling\",x.shape)\n",
        "\n",
        "            #concatenating an intermediary output from encoder section to the data\n",
        "            cropped_encoder_output=self.crop(encoder_intermediary_outputs[i],x)\n",
        "            x=torch.cat([x,cropped_encoder_output],dim=1)\n",
        "\n",
        "            #print(\"Data shape after concatenation with skip connection\",x.shape)\n",
        "\n",
        "            #sending the concatenated upsampled data through a decoding block\n",
        "            x= self.decoding_blocks[i](x)\n",
        "            #print(\"Data shape after upsampling, concatenation and convolution\",x.shape)\n",
        "\n",
        "\n",
        "        return x\n",
        "\n",
        "\n",
        "    def crop(self, encoding_intermediary_output,x):\n",
        "\n",
        "        #(_,_,H,W)=x.shape\n",
        "        (_,_,H,W)=x.shape\n",
        "        cropped_intermediary_output=torchvision.transforms.CenterCrop([H, W])(encoding_intermediary_output)\n",
        "\n",
        "        return cropped_intermediary_output\n",
        "\n",
        "\n",
        "\n",
        "\n",
        "\n",
        "\n"
      ]
    },
    {
      "cell_type": "markdown",
      "metadata": {
        "id": "7ty6ZxVuikrz"
      },
      "source": [
        "# **The Bottleneck class**\n",
        "\n",
        "Represents the Bottleneck section of the U-NET Architecture."
      ]
    },
    {
      "cell_type": "code",
      "execution_count": 7,
      "metadata": {
        "id": "yUsHvNxb-Zf5"
      },
      "outputs": [],
      "source": [
        "class Bottleneck(Module):\n",
        "\n",
        "  def __init__(self, in_channels=None, out_channels=None):\n",
        "\n",
        "    super().__init__()\n",
        "    self.in_channels=in_channels\n",
        "    self.out_channels=out_channels\n",
        "\n",
        "    #bottleneck_block=Block(in_channels=encoder_intermediaries[::-1],out_channels=(encoder_intermediaries[::-1]*2))\n",
        "    self.block=Block(self.in_channels,self.out_channels)\n",
        "\n",
        "  def forward(self,x):\n",
        "    return self.block(x)"
      ]
    },
    {
      "cell_type": "markdown",
      "metadata": {
        "id": "DNU2DiE-nS5G"
      },
      "source": [
        "# **The Custom Layer**\n",
        "\n",
        "This layer is added before the final 1x1 conv layer and after the decoder layers.\n",
        "\n",
        "It consists of the output from the decoder layer being subject to a dot product operation with a matrix of learnable weights. The result of the dot product operation is then convolved over by a 3x3 matrix of 1s to produce the expected output, which is then passed into the final 1x1 conv layer to produce the predicted segmentation maps."
      ]
    },
    {
      "cell_type": "code",
      "execution_count": 8,
      "metadata": {
        "id": "B9H2_oipnSSa"
      },
      "outputs": [],
      "source": [
        "class CustomLayer(Module): #class inherits from the Module class of torch.nn\n",
        "\n",
        "  def __init__(self,in_channels=None,out_channels=None,output_shape=None):\n",
        "\n",
        "    print(\"Initialising Custom Layer\")\n",
        "    super().__init__()\n",
        "    self.in_channels=in_channels\n",
        "    self.out_channels=out_channels\n",
        "\n",
        "    self.weights_matrix_shape=output_shape\n",
        "\n",
        "    #initially setting random weights matrix. Needs to be a trackable and trainable parameter\n",
        "    #(Weights matrix as a parameter and its state would be maintained by PyTorch, updated during backprop)\n",
        "    self.weights_matrix= torch.nn.Parameter(torch.rand(size=(self.weights_matrix_shape)) )#the 128,128 is the shape of the weight matrix which should be = to shape of image matrix.\n",
        "\n",
        "    #seedable weights for the weights matrix, to ensure reproducability.\n",
        "\n",
        "    #this should make the weights learnable and update them using autograd.\n",
        "    self.weights_matrix.requires_grad=True\n",
        "\n",
        "\n",
        "  def forward(self,data):\n",
        "\n",
        "    #data matrix gets multiplied with the weights matrix (dot product) to produce a single value.\n",
        "    #dot_product=np.dot(data,self.weights_matrix)\n",
        "\n",
        "\n",
        "    element_wise_result=torch.mul(data,self.weights_matrix) #np.multiply(data,self.weights_matrix)\n",
        "\n",
        "    #convolving the result over the static 3x3 kernel of 1s.\n",
        "\n",
        "    #print(\"Element-wise multiplication shape: \",element_wise_result.shape)\n",
        "    #print(\"Channels:\",element_wise_result.shape[1])\n",
        "\n",
        "    #I can either using a Conv2D operation or use the functional interface of Conv2D to explicitly specify the weights matrix\n",
        "\n",
        "    #weight here is always going to be matrix of 1s.\n",
        "    #Weight dimension: out_channels,in_channels,kernel width, kernel height\n",
        "    ones_weight=torch.ones( size=(element_wise_result.shape[1],element_wise_result.shape[1],3,3))\n",
        "\n",
        "    ones_weight=ones_weight.to(device)\n",
        "    #print(\"Ones weights matrix shape: \",ones_weight.shape)\n",
        "    #print(\"Ones weight unique\",torch.unique(ones_weight))\n",
        "\n",
        "    ones_conv_result=torch.nn.functional.conv2d(input=element_wise_result,weight=ones_weight,padding=\"same\")\n",
        "\n",
        "    return ones_conv_result\n",
        "\n",
        "\n"
      ]
    },
    {
      "cell_type": "markdown",
      "metadata": {
        "id": "azTkseCviuWA"
      },
      "source": [
        "# **The U-NET class**\n",
        "\n",
        "Acts as a wrapper for the entire U-NET architecture implementation, and contains instantiations of the Encoder, Bottleneck and Decoder sections. Also responsible for performing the final 1x1 convolution that outputs the predicted segmentation map/mask."
      ]
    },
    {
      "cell_type": "code",
      "execution_count": 9,
      "metadata": {
        "id": "zeWV-KJBstpx"
      },
      "outputs": [],
      "source": [
        "#Creating the U-NET class\n",
        "\n",
        "#U-NET architecture:\n",
        "\n",
        "\"\"\"\n",
        "Consists of a contracting path that identifies context (descending/encoding) and a symmetrical expanding path that enables precise localization\n",
        "of contours. U-NET is popular for medical image segmentation and is proven to be better than sliding window CNNs.\n",
        "\n",
        "Localization -> assigning a class label to a region of pixels on a pixel-by-pixel basis.\n",
        "\"\"\"\n",
        "\n",
        "class UNet(Module):\n",
        "\n",
        "    def __init__(self,encoding_channels=(1,64,128),decoding_channels=(256,128,64),seg_classes=3, retainDim=True, outSize=(128, 128)):\n",
        "\n",
        "        #seg_classes is the number of classes that a pixel can belong to (2 being- TL and FL)\n",
        "        #seg_classes is also the number of channels expected by the final conv layer which generates the map.\n",
        "\n",
        "        #retainDim signifies if the original output dimension should be maintained or not when producing the map.\n",
        "\n",
        "        super().__init__()\n",
        "\n",
        "        #Encoder and Decoder are classes. Encoder is the descending section and the Decoder is the ascending of \"U\"\n",
        "        self.encoder=Encoder(encoding_channels)\n",
        "        self.bottleneck_block= Bottleneck(encoding_channels[-1],(encoding_channels[-1]*2) )\n",
        "        self.decoder=Decoder(decoding_channels)\n",
        "\n",
        "        self.retainDim=retainDim\n",
        "        self.seg_classes=seg_classes\n",
        "        self.outSize=outSize\n",
        "\n",
        "        #defining the custom layer:\n",
        "        self.custom_layer=CustomLayer(in_channels=decoding_channels[-1],out_channels=decoding_channels[-1],output_shape=outSize)\n",
        "\n",
        "        #defining the last single convolutional layer, which would output the segmentation map\n",
        "        #in_channel,out_channel,kernel_size\n",
        "        self.head=Conv2d(decoding_channels[-1],seg_classes,1)\n",
        "\n",
        "    def forward(self,x):\n",
        "        #data's entry point into the model\n",
        "\n",
        "        #get intermediary output from encoder, as calling it implicity calls its forward method\n",
        "        encoder_results=self.encoder(x)\n",
        "        #obtain the skip connections\n",
        "        encoder_intermediaries=encoder_results[1]\n",
        "        #obtain the image that needs to be sent into the bottleneck block (\"between the Descending and Ascending sections\")\n",
        "        final_data_from_encoder=encoder_results[0]\n",
        "\n",
        "\n",
        "        #print(\"Encoder output shape:\",final_data_from_encoder.shape)\n",
        "\n",
        "        # the \"bottleneck\" layer-> layer between encoder and decoder, which has a double conv2d.\n",
        "\n",
        "        #passing in the final image output from the encoder into the bottleneck block (does 2 Conv2D convolutions)\n",
        "        bottleneck_output=self.bottleneck_block(final_data_from_encoder)\n",
        "\n",
        "        #passing in the encoder output in reverse(latest output to oldest output) as the data to its forward function\n",
        "        #and also passing in the encoder outputs to decoder\n",
        "\n",
        "        #decoder_output=self.decoder(encoder_intermediaries[::-1][0],encoder_intermediaries[::-1][1:])\n",
        "\n",
        "\n",
        "        #print(\"Bottleneck block output shape:\",bottleneck_output.shape)\n",
        "\n",
        "        decoder_output=self.decoder(bottleneck_output,encoder_intermediaries[::-1])\n",
        "\n",
        "        custom_layer_output= self.custom_layer(decoder_output)\n",
        "\n",
        "        map = self.head(custom_layer_output)\n",
        "\n",
        "        if self.retainDim:\n",
        "            map = torch.nn.functional.interpolate(map, self.outSize)\n",
        "\n",
        "        #print(\"The type of the model output is :\",type(map))\n",
        "        #print(\"The shape of the segmentation map is: \",map.shape)\n",
        "\n",
        "        # return the segmentation map\n",
        "        return map\n",
        "\n",
        "\n",
        "\n"
      ]
    },
    {
      "cell_type": "markdown",
      "metadata": {
        "id": "W5BB03Kki-qN"
      },
      "source": [
        "# **Visualiser functions to display images**"
      ]
    },
    {
      "cell_type": "code",
      "execution_count": 10,
      "metadata": {
        "id": "5y4n_Lvdstpy"
      },
      "outputs": [],
      "source": [
        "def visualiser(image):\n",
        "\n",
        "    print(type(image))\n",
        "    if(type(image)==torch.Tensor):\n",
        "        print(\"tensor\")\n",
        "        transform=transforms.ToPILImage()\n",
        "        display=transform(image)\n",
        "        display.show()\n",
        "\n",
        "    elif(type(image)==Image.Image):\n",
        "        print(\"image\")\n",
        "        image.show()\n",
        "\n",
        "from numpy import ndarray\n",
        "def visualiser_sample(image):\n",
        "  print(type(image))\n",
        "\n",
        "  if(type(image)==torch.Tensor):\n",
        "    print(\"Image is in a tensor format\")\n",
        "    plt.imshow(image.permute(1, 2, 0))\n",
        "    #plt.imshow(image)\n",
        "    #plt.imshow((image* 255).astype(np.uint8))\n",
        "    plt.show()\n",
        "\n",
        "  if(type(image)==np.ndarray):\n",
        "    print(\"Image is a numpy array\")\n",
        "    image=torch.from_numpy(image)\n",
        "    plt.imshow(image)\n",
        "    plt.imshow((image* 255).astype(np.uint8))\n",
        "    plt.show()\n",
        "\n",
        "def visualiser_colab(image):\n",
        "  print(type(image))\n",
        "  print(\"Image shape in visualiser_colab:\",image.shape)\n",
        "\n",
        "  if(type(image)==torch.Tensor):\n",
        "    print(\"Image is in a tensor format\")\n",
        "    plt.imshow(image)\n",
        "    plt.show()\n",
        "\n",
        "  if(type(image)==np.ndarray):\n",
        "    print(\"Image is a numpy array\")\n",
        "    image=torch.from_numpy(image)\n",
        "    #plt.imshow(image.permute(1, 2, 0))\n",
        "    plt.imshow(image)\n",
        "    plt.show()\n"
      ]
    },
    {
      "cell_type": "markdown",
      "metadata": {
        "id": "qGAP6ct9jGzq"
      },
      "source": [
        "# **Creation of a Dataset class that represents the training dataset.**\n",
        "\n",
        "The Semantically labelled segmentation maps/masks are generated during the instantiation of the Dataset class.\n",
        "\n",
        "A cell to visualise the image, raw png mask and semantically labelled map has also been created."
      ]
    },
    {
      "cell_type": "code",
      "execution_count": 11,
      "metadata": {
        "id": "5EINbT3kstp0"
      },
      "outputs": [],
      "source": [
        "\n",
        "from matplotlib import image\n",
        "from matplotlib import pyplot\n",
        "train_path=\"/content/Prepared_Dataset/train\"\n",
        "val_path=\"/content/Prepared_Dataset/val\"\n",
        "test_path=\"/content/Prepared_Dataset/test\"\n",
        "\n",
        "sample_path=\"/content/SampleTrain\"\n",
        "\n",
        "#specifying transforms-> increasing contrast in the image and converting it to a Tensor\n",
        "train_transforms=transforms.Compose([transforms.Resize((128,128)),transforms.ToTensor()])\n",
        "\n",
        "#Setting up Custom Datasets and converting appropriate images to Tensors.\n",
        "\n",
        "train_dataset= CTADataset(os.path.join(train_path,\"images\"),os.path.join(train_path,\"masks\"),os.path.join(train_path,\"normalised_masks\"),transform=train_transforms)\n",
        "\n",
        "#sample_dataset=CTADataset(os.path.join(sample_path,\"images\"),os.path.join(sample_path,\"masks\"),transform=train_transforms)\n",
        "\n"
      ]
    },
    {
      "cell_type": "code",
      "execution_count": 12,
      "metadata": {
        "colab": {
          "base_uri": "https://localhost:8080/",
          "height": 922
        },
        "id": "UOIFwHufDI2l",
        "outputId": "7e9f23fb-b1da-4160-d408-2a304ef981b1"
      },
      "outputs": [
        {
          "output_type": "stream",
          "name": "stdout",
          "text": [
            "Sample image shape:  torch.Size([3, 128, 128])\n",
            "sample map shape:  torch.Size([3, 128, 128])\n",
            "Number of pixels in sample map:  <built-in method size of Tensor object at 0x7fa8f1d97ec0>\n",
            "Length of sample dataset:  23844\n"
          ]
        },
        {
          "output_type": "display_data",
          "data": {
            "text/plain": [
              "<Figure size 640x480 with 1 Axes>"
            ],
            "image/png": "[encoded data removed]"
          },
          "metadata": {}
        },
        {
          "output_type": "display_data",
          "data": {
            "text/plain": [
              "<Figure size 640x480 with 1 Axes>"
            ],
            "image/png": "[encoded data removed]"
          },
          "metadata": {}
        }
      ],
      "source": [
        "#getting a sample image and mask from an arbitrary patient and displaying it.\n",
        "# target_map is the semantically segmented ground truth to be used in loss func\n",
        "train_sampleimage,train_samplemask,train_normalisedmask,imagePath,maskPath=train_dataset.__getitem__(630)\n",
        "\n",
        "print(\"Sample image shape: \",train_sampleimage.shape)\n",
        "# image_np= np.asarray(train_sampleimage)\n",
        "\n",
        "# print(image_np.size)\n",
        "print(\"sample map shape: \",train_normalisedmask.shape)\n",
        "print(\"Number of pixels in sample map: \",train_normalisedmask.size)\n",
        "\n",
        "\n",
        "print(\"Length of sample dataset: \",train_dataset.__len__())\n",
        "# visualiser_sample(train_sampleimage)\n",
        "# visualiser_sample(train_samplemask)\n",
        "\n",
        "pyplot.imshow(train_sampleimage.permute(1,2,0))\n",
        "pyplot.show()\n",
        "pyplot.imshow(train_normalisedmask.permute(1,2,0))\n",
        "pyplot.show()\n",
        "\n",
        "#for pyplot to show image, it must be in format: width,height. target map-> channel, width, height\n",
        "#pyplot.imshow(np.squeeze(target_map)) #squeeze removes the channel dimension as its just 1\n",
        "\n"
      ]
    },
    {
      "cell_type": "markdown",
      "metadata": {
        "id": "vLvJN99Qstp1"
      },
      "source": [
        "# **Creation of DataLoaders for the training dataset**"
      ]
    },
    {
      "cell_type": "code",
      "execution_count": null,
      "metadata": {
        "id": "o7VKVlorstp1"
      },
      "outputs": [],
      "source": [
        "#making dataloaders for the train, test and val sets.\n",
        "\n",
        "#train_loader= DataLoader(train_dataset,batch_size=16,shuffle=False,drop_last=True)\n",
        "\n",
        "shuffled_train_loader=DataLoader(train_dataset,batch_size=16,shuffle=True,drop_last=True)\n",
        "\n",
        "# print(sample_dataset.__len__())\n",
        "\n",
        "image,mask,normalisedmask,imagePath,maskPath= next(iter(shuffled_train_loader))\n",
        "\n",
        "print(\"Image path: \",imagePath)\n",
        "print(\"Mask path: \",maskPath)\n",
        "\n",
        "print(\"Shape of image:\", image.shape)\n",
        "print(\"Shape of mask:\", mask.shape)\n",
        "print(\"Shape of normalised mask:\", normalisedmask.shape)\n",
        "print(\"Unique mask labels:\", np.unique(mask))\n",
        "\n",
        "#sample_loader=DataLoader(sample_dataset,batch_size=16,shuffle=False)\n",
        "\n"
      ]
    },
    {
      "cell_type": "markdown",
      "metadata": {
        "id": "ARxKoJCgstp2"
      },
      "source": [
        "# **Instantiating the UNET implementation model**\n",
        "\n",
        "Encoder:\n",
        "Down-sample -> Max-pooling to reduce the size of the image.\n",
        "Conv2D-> To increase the number of channels.\n",
        "\n",
        "Decoder:\n",
        "Up-Sample -> To increase the image size\n",
        "Conv2D-> To decrease the number of channles"
      ]
    },
    {
      "cell_type": "markdown",
      "metadata": {
        "id": "SDrfN2pJ0eb5"
      },
      "source": []
    },
    {
      "cell_type": "code",
      "execution_count": 14,
      "metadata": {
        "colab": {
          "base_uri": "https://localhost:8080/"
        },
        "id": "Mi3YSs3Ostp2",
        "outputId": "8e91a606-bcbc-47a0-ced5-e12bce1ca003"
      },
      "outputs": [
        {
          "output_type": "stream",
          "name": "stdout",
          "text": [
            "The device being used is:  cuda\n",
            "Initialising Custom Layer\n",
            "Encoder channels:  (3, 64, 128, 256, 512)\n",
            "Decoder Channels:  (1024, 512, 256, 128, 64)\n",
            "UNet(\n",
            "  (encoder): Encoder(\n",
            "    (encoding_blocks): ModuleList(\n",
            "      (0): Block(\n",
            "        (conv): Sequential(\n",
            "          (0): Conv2d(3, 64, kernel_size=(3, 3), stride=(1, 1), padding=(1, 1), bias=False)\n",
            "          (1): BatchNorm2d(64, eps=1e-05, momentum=0.1, affine=True, track_running_stats=True)\n",
            "          (2): ReLU(inplace=True)\n",
            "          (3): Conv2d(64, 64, kernel_size=(3, 3), stride=(1, 1), padding=(1, 1), bias=False)\n",
            "          (4): BatchNorm2d(64, eps=1e-05, momentum=0.1, affine=True, track_running_stats=True)\n",
            "          (5): ReLU(inplace=True)\n",
            "        )\n",
            "      )\n",
            "      (1): Block(\n",
            "        (conv): Sequential(\n",
            "          (0): Conv2d(64, 128, kernel_size=(3, 3), stride=(1, 1), padding=(1, 1), bias=False)\n",
            "          (1): BatchNorm2d(128, eps=1e-05, momentum=0.1, affine=True, track_running_stats=True)\n",
            "          (2): ReLU(inplace=True)\n",
            "          (3): Conv2d(128, 128, kernel_size=(3, 3), stride=(1, 1), padding=(1, 1), bias=False)\n",
            "          (4): BatchNorm2d(128, eps=1e-05, momentum=0.1, affine=True, track_running_stats=True)\n",
            "          (5): ReLU(inplace=True)\n",
            "        )\n",
            "      )\n",
            "      (2): Block(\n",
            "        (conv): Sequential(\n",
            "          (0): Conv2d(128, 256, kernel_size=(3, 3), stride=(1, 1), padding=(1, 1), bias=False)\n",
            "          (1): BatchNorm2d(256, eps=1e-05, momentum=0.1, affine=True, track_running_stats=True)\n",
            "          (2): ReLU(inplace=True)\n",
            "          (3): Conv2d(256, 256, kernel_size=(3, 3), stride=(1, 1), padding=(1, 1), bias=False)\n",
            "          (4): BatchNorm2d(256, eps=1e-05, momentum=0.1, affine=True, track_running_stats=True)\n",
            "          (5): ReLU(inplace=True)\n",
            "        )\n",
            "      )\n",
            "      (3): Block(\n",
            "        (conv): Sequential(\n",
            "          (0): Conv2d(256, 512, kernel_size=(3, 3), stride=(1, 1), padding=(1, 1), bias=False)\n",
            "          (1): BatchNorm2d(512, eps=1e-05, momentum=0.1, affine=True, track_running_stats=True)\n",
            "          (2): ReLU(inplace=True)\n",
            "          (3): Conv2d(512, 512, kernel_size=(3, 3), stride=(1, 1), padding=(1, 1), bias=False)\n",
            "          (4): BatchNorm2d(512, eps=1e-05, momentum=0.1, affine=True, track_running_stats=True)\n",
            "          (5): ReLU(inplace=True)\n",
            "        )\n",
            "      )\n",
            "    )\n",
            "    (pool): MaxPool2d(kernel_size=2, stride=2, padding=0, dilation=1, ceil_mode=False)\n",
            "  )\n",
            "  (bottleneck_block): Bottleneck(\n",
            "    (block): Block(\n",
            "      (conv): Sequential(\n",
            "        (0): Conv2d(512, 1024, kernel_size=(3, 3), stride=(1, 1), padding=(1, 1), bias=False)\n",
            "        (1): BatchNorm2d(1024, eps=1e-05, momentum=0.1, affine=True, track_running_stats=True)\n",
            "        (2): ReLU(inplace=True)\n",
            "        (3): Conv2d(1024, 1024, kernel_size=(3, 3), stride=(1, 1), padding=(1, 1), bias=False)\n",
            "        (4): BatchNorm2d(1024, eps=1e-05, momentum=0.1, affine=True, track_running_stats=True)\n",
            "        (5): ReLU(inplace=True)\n",
            "      )\n",
            "    )\n",
            "  )\n",
            "  (decoder): Decoder(\n",
            "    (decoding_blocks): ModuleList(\n",
            "      (0): Block(\n",
            "        (conv): Sequential(\n",
            "          (0): Conv2d(1024, 512, kernel_size=(3, 3), stride=(1, 1), padding=(1, 1), bias=False)\n",
            "          (1): BatchNorm2d(512, eps=1e-05, momentum=0.1, affine=True, track_running_stats=True)\n",
            "          (2): ReLU(inplace=True)\n",
            "          (3): Conv2d(512, 512, kernel_size=(3, 3), stride=(1, 1), padding=(1, 1), bias=False)\n",
            "          (4): BatchNorm2d(512, eps=1e-05, momentum=0.1, affine=True, track_running_stats=True)\n",
            "          (5): ReLU(inplace=True)\n",
            "        )\n",
            "      )\n",
            "      (1): Block(\n",
            "        (conv): Sequential(\n",
            "          (0): Conv2d(512, 256, kernel_size=(3, 3), stride=(1, 1), padding=(1, 1), bias=False)\n",
            "          (1): BatchNorm2d(256, eps=1e-05, momentum=0.1, affine=True, track_running_stats=True)\n",
            "          (2): ReLU(inplace=True)\n",
            "          (3): Conv2d(256, 256, kernel_size=(3, 3), stride=(1, 1), padding=(1, 1), bias=False)\n",
            "          (4): BatchNorm2d(256, eps=1e-05, momentum=0.1, affine=True, track_running_stats=True)\n",
            "          (5): ReLU(inplace=True)\n",
            "        )\n",
            "      )\n",
            "      (2): Block(\n",
            "        (conv): Sequential(\n",
            "          (0): Conv2d(256, 128, kernel_size=(3, 3), stride=(1, 1), padding=(1, 1), bias=False)\n",
            "          (1): BatchNorm2d(128, eps=1e-05, momentum=0.1, affine=True, track_running_stats=True)\n",
            "          (2): ReLU(inplace=True)\n",
            "          (3): Conv2d(128, 128, kernel_size=(3, 3), stride=(1, 1), padding=(1, 1), bias=False)\n",
            "          (4): BatchNorm2d(128, eps=1e-05, momentum=0.1, affine=True, track_running_stats=True)\n",
            "          (5): ReLU(inplace=True)\n",
            "        )\n",
            "      )\n",
            "      (3): Block(\n",
            "        (conv): Sequential(\n",
            "          (0): Conv2d(128, 64, kernel_size=(3, 3), stride=(1, 1), padding=(1, 1), bias=False)\n",
            "          (1): BatchNorm2d(64, eps=1e-05, momentum=0.1, affine=True, track_running_stats=True)\n",
            "          (2): ReLU(inplace=True)\n",
            "          (3): Conv2d(64, 64, kernel_size=(3, 3), stride=(1, 1), padding=(1, 1), bias=False)\n",
            "          (4): BatchNorm2d(64, eps=1e-05, momentum=0.1, affine=True, track_running_stats=True)\n",
            "          (5): ReLU(inplace=True)\n",
            "        )\n",
            "      )\n",
            "    )\n",
            "    (upconvolutions): ModuleList(\n",
            "      (0): ConvTranspose2d(1024, 512, kernel_size=(2, 2), stride=(2, 2))\n",
            "      (1): ConvTranspose2d(512, 256, kernel_size=(2, 2), stride=(2, 2))\n",
            "      (2): ConvTranspose2d(256, 128, kernel_size=(2, 2), stride=(2, 2))\n",
            "      (3): ConvTranspose2d(128, 64, kernel_size=(2, 2), stride=(2, 2))\n",
            "    )\n",
            "  )\n",
            "  (custom_layer): CustomLayer()\n",
            "  (head): Conv2d(64, 4, kernel_size=(1, 1), stride=(1, 1))\n",
            ")\n"
          ]
        }
      ],
      "source": [
        "#Instantiate the Block, Encoder,Decoder and UNET classes. Pass data into the UNET Class (model's data entrypoint)\n",
        "print(\"The device being used is: \",device)\n",
        "\n",
        "seg_map_height=128\n",
        "seg_map_width=128\n",
        "\n",
        "#encoding_channels=(3,64,128),decoding_channels=(256,128,64,2)\n",
        "UNET_Model= UNet(encoding_channels=(3,64,128,256,512),decoding_channels=(1024,512,256,128,64),outSize=(seg_map_height,seg_map_width),seg_classes=4)\n",
        "UNET_Model.to(device)\n",
        "\n",
        "print(\"Encoder channels: \",UNET_Model.encoder.channels)\n",
        "print(\"Decoder Channels: \", UNET_Model.decoder.channels)\n",
        "\n",
        "print(UNET_Model)\n"
      ]
    },
    {
      "cell_type": "markdown",
      "metadata": {
        "id": "sryneUHSj3Oe"
      },
      "source": [
        "# **Implementation of the Dice Score metric and the IoU metric**"
      ]
    },
    {
      "cell_type": "code",
      "execution_count": 62,
      "metadata": {
        "id": "Y_rspLesh_fA"
      },
      "outputs": [],
      "source": [
        "#input parameters ->prediction_mask([channel,height,width])\n",
        "def DCS_for_class(prediction_mask, true_mask, class_idx):\n",
        "    eps = 1e-7\n",
        "\n",
        "    #converting logits into probabilities\n",
        "    pred_mask = torch.nn.functional.softmax(prediction_mask, dim=1)\n",
        "    #considering only the channel that represents the class for which dice score is being calculated\n",
        "    pred_mask = pred_mask[:, class_idx, :, :]\n",
        "    #removing the 1 channel (class) from ground truth mask\n",
        "    true_mask = true_mask.squeeze(1)\n",
        "\n",
        "    #converting the ground truth semantically labeled mask into a one-hot encoded binary mask\n",
        "    binary_true_mask = true_mask == class_idx\n",
        "\n",
        "    #thresholding to convert probability into class\n",
        "    intersection = (pred_mask > 0.5) & binary_true_mask\n",
        "    intersection = intersection.float().sum()\n",
        "    union = (pred_mask > 0.5).float().sum() + binary_true_mask.float().sum()\n",
        "\n",
        "    dice_coeff = (2. * intersection + eps) / (union + eps)\n",
        "    return dice_coeff.item()\n",
        "\n",
        "def multi_class_dice_coefficient(pred_mask, true_mask, num_classes):\n",
        "\n",
        "    DCS_per_class=[]\n",
        "    #getting the dice score for every class\n",
        "    for i in range(num_classes):\n",
        "        DCS_per_class.append(DCS_for_class(pred_mask, true_mask, i))\n",
        "\n",
        "    #length would be num_classes, in this case 4.\n",
        "    return DCS_per_class\n"
      ]
    },
    {
      "cell_type": "code",
      "execution_count": 61,
      "metadata": {
        "id": "wvknn8QocDhb"
      },
      "outputs": [],
      "source": [
        "'''accuracy score functions'''\n",
        "import torchmetrics\n",
        "from torchmetrics.classification import MulticlassJaccardIndex\n",
        "\n",
        "\n",
        "def calc_IOU_for_epoch(predictions_list, target_maps_list):\n",
        "#predictions_list -> list of predictions in an epoch\n",
        "#target_maps_list -> list of target_maps(ground-truth) in an epoch\n",
        "#predictions of shape -> [batch_size, channels(num of classes),width,height]\n",
        "#target shape -> [batch_size,height,width] [height,width]= range(0,num_classes)\n",
        "\n",
        "  mean_IOU_per_batch=[]\n",
        "  IOU_Class0_per_batch=[]\n",
        "  IOU_Class1_per_batch=[]\n",
        "  IOU_Class2_per_batch=[]\n",
        "  IOU_Class3_per_batch=[]\n",
        "\n",
        "  for i in range(len(predictions_list)):\n",
        "    #predictions list is 327 tensors, each of dimension: [batch,channels,width,height]\n",
        "\n",
        "    #getting a single tensor and its corresponding ground truth mask\n",
        "    prediction=predictions_list[i].cpu()\n",
        "    target_map=target_maps_list[i].cpu()\n",
        "\n",
        "    IOU_func= MulticlassJaccardIndex(num_classes=4,average=\"none\")\n",
        "    IOU_per_prediction= IOU_func(prediction,target_map)\n",
        "\n",
        "    #per batch means per prediction -> mean is basically adding IoU for all classes in a prediction/4\n",
        "    mean_IOU_per_batch.append(sum(IOU_per_prediction)/len(IOU_per_prediction))\n",
        "    IOU_Class0_per_batch.append(IOU_per_prediction[0])\n",
        "    IOU_Class1_per_batch.append(IOU_per_prediction[1])\n",
        "    IOU_Class2_per_batch.append(IOU_per_prediction[2])\n",
        "    IOU_Class3_per_batch.append(IOU_per_prediction[3])\n",
        "\n",
        "    #print(\"IOU per class shape:\",IOU_per_prediction.shape)\n",
        "\n",
        "    #print(\"IOU Score per class for this batch of predicted maps is : \",IOU_per_prediction[0], IOU_per_prediction[1], IOU_per_prediction[2])\n",
        "\n",
        "\n",
        "  IOU_for_epoch=[]\n",
        "\n",
        "  '''average mean IOU(IOU class1+IOU class2+IOU class3/num_classes) across epoch'''\n",
        "  IOU_for_epoch.append(sum(mean_IOU_per_batch)/len(mean_IOU_per_batch))\n",
        "  ''' average IOU for class 0 across epoch'''\n",
        "  IOU_for_epoch.append(sum(IOU_Class0_per_batch)/len(IOU_Class0_per_batch))\n",
        "  ''' average IOU for class 1 across epoch'''\n",
        "  IOU_for_epoch.append(sum(IOU_Class1_per_batch)/len(IOU_Class1_per_batch))\n",
        "  ''' average IOU for class 2 across epoch'''\n",
        "  IOU_for_epoch.append(sum(IOU_Class2_per_batch)/len(IOU_Class2_per_batch))\n",
        "  ''' average IOU for class 3 across epoch'''\n",
        "  IOU_for_epoch.append(sum(IOU_Class3_per_batch)/len(IOU_Class3_per_batch))\n",
        "\n",
        "  return IOU_for_epoch\n",
        "  #IOU_per epoch is a list:\n",
        "  #[mean_IOU_across_predictions,mean_IOU_class1_across_predictions, ..classn_across_predictions]\n",
        "\n",
        "\n",
        "def calc_Dice_for_epoch (predictions_list, target_maps_list):\n",
        "\n",
        "  #dice_func=Dice(num_classes=3, average='none')\n",
        "  mean_DCS_per_batch=[]\n",
        "  DCS_Class0_per_batch=[]\n",
        "  DCS_Class1_per_batch=[]\n",
        "  DCS_Class2_per_batch=[]\n",
        "  DCS_Class3_per_batch=[]\n",
        "\n",
        "  for i in range(len(predictions_list)):\n",
        "\n",
        "    #predictions list is 327 tensors, each of dimension: [batch,channels,width,height]\n",
        "    #getting a single tensor and its corresponding ground truth mask\n",
        "    prediction=predictions_list[i].cpu()\n",
        "    target_map=target_maps_list[i].cpu()\n",
        "\n",
        "    #sending prediction of dimension:[batch,channels,width,height], and mask and number of classes for segmentation\n",
        "    DCS_per_prediction= multi_class_dice_coefficient(prediction,target_map,4)\n",
        "\n",
        "    #average of the DCS across the 4 classes\n",
        "    mean_DCS_per_batch.append(sum(DCS_per_prediction)/len(DCS_per_prediction))\n",
        "\n",
        "    DCS_Class0_per_batch.append(DCS_per_prediction[0])\n",
        "    DCS_Class1_per_batch.append(DCS_per_prediction[1])\n",
        "    DCS_Class2_per_batch.append(DCS_per_prediction[2])\n",
        "    DCS_Class3_per_batch.append(DCS_per_prediction[3])\n",
        "\n",
        "\n",
        "  DCS_for_epoch=[]\n",
        "\n",
        "  '''Average DCS across 4 classes, for this epoch'''\n",
        "  DCS_for_epoch.append(sum(mean_DCS_per_batch)/len(mean_DCS_per_batch))\n",
        "  '''Average DCS for Class 0 (Background) for this epoch:'''\n",
        "  DCS_for_epoch.append(sum(DCS_Class0_per_batch)/len(DCS_Class0_per_batch))\n",
        "  '''Average DCS for Class 1 (FL) for this epoch:'''\n",
        "  DCS_for_epoch.append(sum(DCS_Class1_per_batch)/len(DCS_Class1_per_batch))\n",
        "  '''Average DCS for Class 2 (TL) for this epoch:'''\n",
        "  DCS_for_epoch.append(sum(DCS_Class2_per_batch)/len(DCS_Class2_per_batch))\n",
        "  '''Average DCS for Class 3 (FLT) for this epoch:'''\n",
        "  DCS_for_epoch.append(sum(DCS_Class3_per_batch)/len(DCS_Class3_per_batch))\n",
        "\n",
        "\n",
        "  return DCS_for_epoch\n",
        "\n",
        "\n"
      ]
    },
    {
      "cell_type": "markdown",
      "metadata": {
        "id": "QtnAemTrEeDt"
      },
      "source": [
        "# **Defining the model's hyper-parameters:**"
      ]
    },
    {
      "cell_type": "code",
      "execution_count": 22,
      "metadata": {
        "colab": {
          "base_uri": "https://localhost:8080/"
        },
        "id": "0X16dYG6stpo",
        "outputId": "033510aa-3ae1-4286-aa5a-9b78a14ec423"
      },
      "outputs": [
        {
          "output_type": "stream",
          "name": "stdout",
          "text": [
            "<class 'method'>\n",
            "encoder.encoding_blocks.0.conv.0.weight\n",
            "encoder.encoding_blocks.0.conv.1.weight\n",
            "encoder.encoding_blocks.0.conv.1.bias\n",
            "encoder.encoding_blocks.0.conv.3.weight\n",
            "encoder.encoding_blocks.0.conv.4.weight\n",
            "encoder.encoding_blocks.0.conv.4.bias\n",
            "encoder.encoding_blocks.1.conv.0.weight\n",
            "encoder.encoding_blocks.1.conv.1.weight\n",
            "encoder.encoding_blocks.1.conv.1.bias\n",
            "encoder.encoding_blocks.1.conv.3.weight\n",
            "encoder.encoding_blocks.1.conv.4.weight\n",
            "encoder.encoding_blocks.1.conv.4.bias\n",
            "encoder.encoding_blocks.2.conv.0.weight\n",
            "encoder.encoding_blocks.2.conv.1.weight\n",
            "encoder.encoding_blocks.2.conv.1.bias\n",
            "encoder.encoding_blocks.2.conv.3.weight\n",
            "encoder.encoding_blocks.2.conv.4.weight\n",
            "encoder.encoding_blocks.2.conv.4.bias\n",
            "encoder.encoding_blocks.3.conv.0.weight\n",
            "encoder.encoding_blocks.3.conv.1.weight\n",
            "encoder.encoding_blocks.3.conv.1.bias\n",
            "encoder.encoding_blocks.3.conv.3.weight\n",
            "encoder.encoding_blocks.3.conv.4.weight\n",
            "encoder.encoding_blocks.3.conv.4.bias\n",
            "bottleneck_block.block.conv.0.weight\n",
            "bottleneck_block.block.conv.1.weight\n",
            "bottleneck_block.block.conv.1.bias\n",
            "bottleneck_block.block.conv.3.weight\n",
            "bottleneck_block.block.conv.4.weight\n",
            "bottleneck_block.block.conv.4.bias\n",
            "decoder.decoding_blocks.0.conv.0.weight\n",
            "decoder.decoding_blocks.0.conv.1.weight\n",
            "decoder.decoding_blocks.0.conv.1.bias\n",
            "decoder.decoding_blocks.0.conv.3.weight\n",
            "decoder.decoding_blocks.0.conv.4.weight\n",
            "decoder.decoding_blocks.0.conv.4.bias\n",
            "decoder.decoding_blocks.1.conv.0.weight\n",
            "decoder.decoding_blocks.1.conv.1.weight\n",
            "decoder.decoding_blocks.1.conv.1.bias\n",
            "decoder.decoding_blocks.1.conv.3.weight\n",
            "decoder.decoding_blocks.1.conv.4.weight\n",
            "decoder.decoding_blocks.1.conv.4.bias\n",
            "decoder.decoding_blocks.2.conv.0.weight\n",
            "decoder.decoding_blocks.2.conv.1.weight\n",
            "decoder.decoding_blocks.2.conv.1.bias\n",
            "decoder.decoding_blocks.2.conv.3.weight\n",
            "decoder.decoding_blocks.2.conv.4.weight\n",
            "decoder.decoding_blocks.2.conv.4.bias\n",
            "decoder.decoding_blocks.3.conv.0.weight\n",
            "decoder.decoding_blocks.3.conv.1.weight\n",
            "decoder.decoding_blocks.3.conv.1.bias\n",
            "decoder.decoding_blocks.3.conv.3.weight\n",
            "decoder.decoding_blocks.3.conv.4.weight\n",
            "decoder.decoding_blocks.3.conv.4.bias\n",
            "decoder.upconvolutions.0.weight\n",
            "decoder.upconvolutions.0.bias\n",
            "decoder.upconvolutions.1.weight\n",
            "decoder.upconvolutions.1.bias\n",
            "decoder.upconvolutions.2.weight\n",
            "decoder.upconvolutions.2.bias\n",
            "decoder.upconvolutions.3.weight\n",
            "decoder.upconvolutions.3.bias\n",
            "custom_layer.weights_matrix\n",
            "head.weight\n",
            "head.bias\n",
            "Model Parameters:  <generator object Module.parameters at 0x7fa8bdea77d0>\n"
          ]
        }
      ],
      "source": [
        "#defining and initialising model hyper-parameters\n",
        "\n",
        "initial_learning_rate=0.0001\n",
        "\n",
        "#Optimizer function -> Adam\n",
        "\n",
        "model_params=UNET_Model.parameters()\n",
        "print(type(UNET_Model.parameters))\n",
        "\n",
        "for name,param in UNET_Model.named_parameters():\n",
        "  if param.requires_grad==True:\n",
        "    print(name)\n",
        "\n",
        "print(\"Model Parameters: \", model_params)\n",
        "\n",
        "\n",
        "#need to optimise UNET_Model params (all the Conv2D weights) AND the custom layer weight matrix.\n",
        "optimizer_function= torch.optim.Adam(params=UNET_Model.parameters(),lr=initial_learning_rate)\n",
        "\n",
        "batch_size=16\n",
        "\n",
        "num_epochs=10\n",
        "\n",
        "training_loss_list=[]\n",
        "\n",
        "#loss_func= binary_cross_entropy\n",
        "#loss_function=torch.nn.BCEWithLogitsLoss()\n",
        "\n",
        "#loss_func= cross_entropy (as its a 3 class pixel classification problem)\n",
        "\n",
        "'''\n",
        "for CrossEntropyLoss to work, expected mask/target should be either\n",
        "Class indices in the range [0,C) where C is the number of classes or\n",
        "Probabilities for each class\n",
        "'''\n",
        "\n",
        "#What I think is happening:\n",
        "'''\n",
        "Mask data does not contain classes assigned to pixels. It is simply rgb pixel values.\n",
        "\n",
        "image and mask values have been normalized from (0 to 255) to (0,1)\n",
        "so what if CrossEntropyLoss is assuming them to be probability values and as all the values are between\n",
        "0 and 1 (like 0.2, 0.3, 0.5) it is flooring them to be class 0?.\n",
        "\n",
        "'''\n",
        "\n",
        "loss_function=torch.nn.CrossEntropyLoss()\n",
        "\n"
      ]
    },
    {
      "cell_type": "markdown",
      "metadata": {
        "id": "cn-d-EXgstp2"
      },
      "source": [
        "# **Training the model on the training samples.**\n",
        "\n",
        "Calculating loss/error using the loss function.\n",
        "Backpropagating the error through the model, to readjust weights.\n",
        "Displaying the Dice score and IoU score per epoch\n"
      ]
    },
    {
      "cell_type": "code",
      "source": [
        "model=torch.load(\"/content/drive/MyDrive/FYP-Aortic_Dissection_Segmentation/Full_dataset_saved_models/SummerResearch/custom_model-fulldataset_Seed7-10epochs\")\n"
      ],
      "metadata": {
        "id": "Eb4Dgvmaby49"
      },
      "execution_count": 23,
      "outputs": []
    },
    {
      "cell_type": "code",
      "execution_count": null,
      "metadata": {
        "id": "nXu_CP2Fstp3"
      },
      "outputs": [],
      "source": [
        "IOU_per_epoch=[]\n",
        "DCS_per_epoch=[]\n",
        "\n",
        "#Training\n",
        "\n",
        "#epoch -> entire run of a CNN through an entire training dataset.\n",
        "#enumeration of a data loader-> passing batches of data to train the model, backpropogate error and optimise weights\n",
        "\n",
        "for i in range(0,num_epochs+1):\n",
        "  #setting the model mode to train\n",
        "  UNET_Model.train()\n",
        "  images_path_list=[]\n",
        "  masks_path_list=[]\n",
        "\n",
        "  images_list=[]\n",
        "  masks_list=[]\n",
        "\n",
        "  predictions_list=[]\n",
        "  normalised_maps_list=[]\n",
        "\n",
        "  #looping through batches of data made by the training DataLoader.\n",
        "  for (batch_index,(image,mask,normalisedmap,imagePath,maskPath)) in tqdm.tqdm(enumerate(shuffled_train_loader),total=len(shuffled_train_loader)):\n",
        "\n",
        "    #switching the data over to the GPU\n",
        "    image=image.to(device)\n",
        "    mask=mask.to(device)\n",
        "    #forcing the conversion to long\n",
        "    mask=mask.long()\n",
        "\n",
        "\n",
        "\n",
        "    #adding images and masks in this list to batch\n",
        "    images_list.append(image)\n",
        "    masks_list.append(mask)\n",
        "    normalised_maps_list.append(normalisedmap)\n",
        "    images_path_list.append(imagePath)\n",
        "    masks_path_list.append(maskPath)\n",
        "\n",
        "    #making the prediction for the input image\n",
        "    #predictions=UNET_Model(image)\n",
        "\n",
        "    predictions=model(image)\n",
        "    # moving predictions to cpu and appending it to list, to see if it prevents CUDA out of memory.\n",
        "    predictions_list.append(predictions.cpu())\n",
        "\n",
        "    #predictions_list.append(predictions)\n",
        "\n",
        "    #Calculating loss\n",
        "\n",
        "    loss=loss_function(predictions,mask)\n",
        "    training_loss_list.append(loss.item())\n",
        "\n",
        "    #zeroing out accumulated gradients as weights have already been modified according to them during the previous run.\n",
        "    optimizer_function.zero_grad()\n",
        "\n",
        "    #Back propogation:\n",
        "    loss.backward()\n",
        "\n",
        "    #updating weights\n",
        "    optimizer_function.step()\n",
        "\n",
        "  '''calculate IOU per epoch'''\n",
        "  #end of epoch loop\n",
        "  IOU_per_epoch.append(calc_IOU_for_epoch(predictions_list,masks_list))\n",
        "  print(f\"----------------------After epoch {i}------------------------------------------\")\n",
        "  print(IOU_per_epoch)\n",
        "  print(f\"At end of epoch {i}, the mean IOU across 3 classes is: \",IOU_per_epoch[i-1][0])\n",
        "  print(f\"At end of epoch {i}, the mean IOU for class 0 is: \",IOU_per_epoch[i-1][1] )\n",
        "  print(f\"At end of epoch {i}, the mean IOU for class 1 is: \",IOU_per_epoch[i-1][2] )\n",
        "  print(f\"At end of epoch {i}, the mean IOU for class 2 is: \",IOU_per_epoch[i-1][3] )\n",
        "  print(f\"At end of epoch {i}, the mean IOU for class 3 is: \",IOU_per_epoch[i-1][4] )\n",
        "\n",
        "  '''calculate Dice Score per epoch'''\n",
        "  DCS_per_epoch.append(calc_Dice_for_epoch(predictions_list,masks_list))\n",
        "\n",
        "  print(\"\\n\")\n",
        "  print(DCS_per_epoch)\n",
        "  print(f\"At end of epoch {i}, the mean DCS across 3 classes is: \",DCS_per_epoch[i-1][0])\n",
        "  print(f\"At end of epoch {i}, the mean DCS for class 0 is: \",DCS_per_epoch[i-1][1] )\n",
        "  print(f\"At end of epoch {i}, the mean DCS for class 1 is: \",DCS_per_epoch[i-1][2] )\n",
        "  print(f\"At end of epoch {i}, the mean DCS for class 2 is: \",DCS_per_epoch[i-1][3] )\n",
        "  print(f\"At end of epoch {i}, the mean DCS for class 3 is: \",DCS_per_epoch[i-1][4] )\n",
        "\n",
        "  #saving the model every 10 epochs.\n",
        "  if(i%10==0):\n",
        "    #SAVING THE MODEL\n",
        "    print(\"Saving the model at epoch: \",i)\n",
        "    save_path=\"/content/drive/MyDrive/FYP-Aortic_Dissection_Segmentation/Full_dataset_saved_models/SummerResearch/custom_model-fulldataset_Seed7-{}epochs\"\n",
        "    path=save_path.format(i)\n",
        "    torch.save(UNET_Model,path)\n",
        "\n",
        "print(\"Ended training phase\")\n",
        "print(\"Training losses are as follows: \",training_loss_list)\n",
        "\n",
        "##NOTE: Images are represented during training in the format: [batchsize,channels,height,width]\n",
        "\n",
        "#displaying the predicted mask and the actual mask\n",
        "print(\"The data type of the prediction is : \",type(predictions))\n",
        "\n"
      ]
    },
    {
      "cell_type": "markdown",
      "metadata": {
        "id": "BbUOwmFpeHML"
      },
      "source": [
        "# **Visualising some of the predictions made during training.**"
      ]
    },
    {
      "cell_type": "code",
      "execution_count": null,
      "metadata": {
        "id": "GzhPQjGJinWy"
      },
      "outputs": [],
      "source": [
        "#array[0][:][:][:]\n",
        "#print(\"Image paths stored\",len(images_path_list))\n",
        "#print(\"Mask paths stored\",len(masks_path_list))\n",
        "\n",
        "print(\"Predictions stored: \",len(predictions_list))\n",
        "print(\"Predictions(from model) shape:\",predictions.shape)\n",
        "\n",
        "print(\"Images stored\",len(images_list))\n",
        "print(\"Masks stored\",len(masks_list))\n",
        "print(\"Target maps stored\", len(normalised_maps_list))\n",
        "\n",
        "#getting a certain index of predictions,images and masks.\n",
        "list_index=420\n",
        "image=images_list[list_index]\n",
        "mask= masks_list[list_index]\n",
        "predictions=predictions_list[list_index]\n",
        "target_map=normalised_maps_list[list_index]\n",
        "\n",
        "#to convert tensor to numpy array to plot, switch it from gpu to cpu\n",
        "mask=mask.cpu()\n",
        "predictions=predictions.cpu()\n",
        "image=image.cpu()\n",
        "target_map=target_map.cpu()\n",
        "\n",
        "print(\"Shape of the Image from list : \", image.shape)\n",
        "print(\"Shape of the expected mask from list: \", mask.shape)\n",
        "print(\"Shape of the predictions from list: \", predictions.shape)\n",
        "print(\"Shape of the target_maps from list: \",target_map.shape)\n",
        "# print(\"Image used: \",images_path_list[list_index])\n",
        "# print(\"Mask used: \",masks_path_list[list_index])\n",
        "\n",
        "\n",
        "batch=batch_size-1\n",
        "\n",
        "#taking a single image from the batch of images,\n",
        "#permuting it to display it and then displaying the input image using pyplot's imshow function.\n",
        "print(\"Input image\")\n",
        "image=image[batch][:][:][:]\n",
        "image=image.permute(1,2,0)\n",
        "plt.imshow(image.detach().numpy())\n",
        "plt.show()\n",
        "\n",
        "#reading in mask 1, from the batch of 32.\n",
        "#Also permuting it, so shape becomes [height,width,channel]\n",
        "'''print(\"Expected mask\")\n",
        "mask=mask[batch][:][:][:]\n",
        "mask=mask.permute(1,2,0)\n",
        "plt.imshow(mask.detach().numpy())\n",
        "plt.show()'''\n",
        "\n",
        "\n",
        "print(\"Ground truth target mask passed into loss func:\")\n",
        "individual_target_map=target_map[batch][:][:]\n",
        "visualiser_colab(individual_target_map.permute(1,2,0))\n",
        "print(\"The Model output mask\")\n",
        "\n",
        "print(\"Prediction type from list : \",type(predictions))\n",
        "\n",
        "#reading in prediction 1, from the batch of 32\n",
        "#also permuting it so shape becomes [height,width,channel]\n",
        "individual_prediction=predictions[batch][:][:][:]\n",
        "print(\"predictions shape before being displayed: \",individual_prediction.shape)\n",
        "individual_prediction=individual_prediction.permute(1,2,0) #shape becomes 128,128,3\n",
        "print(\"Predictions shape after permuting it:\",individual_prediction.shape)\n",
        "# predictions=transf(predictions)\n",
        "visualiser_colab(individual_prediction.detach().numpy())\n",
        "\n",
        "\n",
        "print(\"Predictions values\", torch.unique(individual_prediction))\n",
        "\n",
        "print(\"Target_map unique values: \",torch.unique(individual_target_map))\n"
      ]
    },
    {
      "cell_type": "code",
      "execution_count": null,
      "metadata": {
        "id": "bAmH6Q7Dlh69"
      },
      "outputs": [],
      "source": [
        "#SAVING THE MODEL\n",
        "path=\"/content/drive/MyDrive/FYP-Aortic_Dissection_Segmentation/<enter name of model>\"\n",
        "torch.save(UNET_Model,path)"
      ]
    },
    {
      "cell_type": "markdown",
      "metadata": {
        "id": "sjCjFJiLPOtQ"
      },
      "source": [
        "# **Validating the model by loading it and testing it on unseen data.**"
      ]
    },
    {
      "cell_type": "code",
      "execution_count": 51,
      "metadata": {
        "colab": {
          "base_uri": "https://localhost:8080/"
        },
        "id": "99s1qEWwjVzy",
        "outputId": "86c9ebe4-7228-4327-825a-374771ce22fe"
      },
      "outputs": [
        {
          "output_type": "execute_result",
          "data": {
            "text/plain": [
              "UNet(\n",
              "  (encoder): Encoder(\n",
              "    (encoding_blocks): ModuleList(\n",
              "      (0): Block(\n",
              "        (conv): Sequential(\n",
              "          (0): Conv2d(3, 64, kernel_size=(3, 3), stride=(1, 1), padding=(1, 1), bias=False)\n",
              "          (1): BatchNorm2d(64, eps=1e-05, momentum=0.1, affine=True, track_running_stats=True)\n",
              "          (2): ReLU(inplace=True)\n",
              "          (3): Conv2d(64, 64, kernel_size=(3, 3), stride=(1, 1), padding=(1, 1), bias=False)\n",
              "          (4): BatchNorm2d(64, eps=1e-05, momentum=0.1, affine=True, track_running_stats=True)\n",
              "          (5): ReLU(inplace=True)\n",
              "        )\n",
              "      )\n",
              "      (1): Block(\n",
              "        (conv): Sequential(\n",
              "          (0): Conv2d(64, 128, kernel_size=(3, 3), stride=(1, 1), padding=(1, 1), bias=False)\n",
              "          (1): BatchNorm2d(128, eps=1e-05, momentum=0.1, affine=True, track_running_stats=True)\n",
              "          (2): ReLU(inplace=True)\n",
              "          (3): Conv2d(128, 128, kernel_size=(3, 3), stride=(1, 1), padding=(1, 1), bias=False)\n",
              "          (4): BatchNorm2d(128, eps=1e-05, momentum=0.1, affine=True, track_running_stats=True)\n",
              "          (5): ReLU(inplace=True)\n",
              "        )\n",
              "      )\n",
              "      (2): Block(\n",
              "        (conv): Sequential(\n",
              "          (0): Conv2d(128, 256, kernel_size=(3, 3), stride=(1, 1), padding=(1, 1), bias=False)\n",
              "          (1): BatchNorm2d(256, eps=1e-05, momentum=0.1, affine=True, track_running_stats=True)\n",
              "          (2): ReLU(inplace=True)\n",
              "          (3): Conv2d(256, 256, kernel_size=(3, 3), stride=(1, 1), padding=(1, 1), bias=False)\n",
              "          (4): BatchNorm2d(256, eps=1e-05, momentum=0.1, affine=True, track_running_stats=True)\n",
              "          (5): ReLU(inplace=True)\n",
              "        )\n",
              "      )\n",
              "      (3): Block(\n",
              "        (conv): Sequential(\n",
              "          (0): Conv2d(256, 512, kernel_size=(3, 3), stride=(1, 1), padding=(1, 1), bias=False)\n",
              "          (1): BatchNorm2d(512, eps=1e-05, momentum=0.1, affine=True, track_running_stats=True)\n",
              "          (2): ReLU(inplace=True)\n",
              "          (3): Conv2d(512, 512, kernel_size=(3, 3), stride=(1, 1), padding=(1, 1), bias=False)\n",
              "          (4): BatchNorm2d(512, eps=1e-05, momentum=0.1, affine=True, track_running_stats=True)\n",
              "          (5): ReLU(inplace=True)\n",
              "        )\n",
              "      )\n",
              "    )\n",
              "    (pool): MaxPool2d(kernel_size=2, stride=2, padding=0, dilation=1, ceil_mode=False)\n",
              "  )\n",
              "  (bottleneck_block): Bottleneck(\n",
              "    (block): Block(\n",
              "      (conv): Sequential(\n",
              "        (0): Conv2d(512, 1024, kernel_size=(3, 3), stride=(1, 1), padding=(1, 1), bias=False)\n",
              "        (1): BatchNorm2d(1024, eps=1e-05, momentum=0.1, affine=True, track_running_stats=True)\n",
              "        (2): ReLU(inplace=True)\n",
              "        (3): Conv2d(1024, 1024, kernel_size=(3, 3), stride=(1, 1), padding=(1, 1), bias=False)\n",
              "        (4): BatchNorm2d(1024, eps=1e-05, momentum=0.1, affine=True, track_running_stats=True)\n",
              "        (5): ReLU(inplace=True)\n",
              "      )\n",
              "    )\n",
              "  )\n",
              "  (decoder): Decoder(\n",
              "    (decoding_blocks): ModuleList(\n",
              "      (0): Block(\n",
              "        (conv): Sequential(\n",
              "          (0): Conv2d(1024, 512, kernel_size=(3, 3), stride=(1, 1), padding=(1, 1), bias=False)\n",
              "          (1): BatchNorm2d(512, eps=1e-05, momentum=0.1, affine=True, track_running_stats=True)\n",
              "          (2): ReLU(inplace=True)\n",
              "          (3): Conv2d(512, 512, kernel_size=(3, 3), stride=(1, 1), padding=(1, 1), bias=False)\n",
              "          (4): BatchNorm2d(512, eps=1e-05, momentum=0.1, affine=True, track_running_stats=True)\n",
              "          (5): ReLU(inplace=True)\n",
              "        )\n",
              "      )\n",
              "      (1): Block(\n",
              "        (conv): Sequential(\n",
              "          (0): Conv2d(512, 256, kernel_size=(3, 3), stride=(1, 1), padding=(1, 1), bias=False)\n",
              "          (1): BatchNorm2d(256, eps=1e-05, momentum=0.1, affine=True, track_running_stats=True)\n",
              "          (2): ReLU(inplace=True)\n",
              "          (3): Conv2d(256, 256, kernel_size=(3, 3), stride=(1, 1), padding=(1, 1), bias=False)\n",
              "          (4): BatchNorm2d(256, eps=1e-05, momentum=0.1, affine=True, track_running_stats=True)\n",
              "          (5): ReLU(inplace=True)\n",
              "        )\n",
              "      )\n",
              "      (2): Block(\n",
              "        (conv): Sequential(\n",
              "          (0): Conv2d(256, 128, kernel_size=(3, 3), stride=(1, 1), padding=(1, 1), bias=False)\n",
              "          (1): BatchNorm2d(128, eps=1e-05, momentum=0.1, affine=True, track_running_stats=True)\n",
              "          (2): ReLU(inplace=True)\n",
              "          (3): Conv2d(128, 128, kernel_size=(3, 3), stride=(1, 1), padding=(1, 1), bias=False)\n",
              "          (4): BatchNorm2d(128, eps=1e-05, momentum=0.1, affine=True, track_running_stats=True)\n",
              "          (5): ReLU(inplace=True)\n",
              "        )\n",
              "      )\n",
              "      (3): Block(\n",
              "        (conv): Sequential(\n",
              "          (0): Conv2d(128, 64, kernel_size=(3, 3), stride=(1, 1), padding=(1, 1), bias=False)\n",
              "          (1): BatchNorm2d(64, eps=1e-05, momentum=0.1, affine=True, track_running_stats=True)\n",
              "          (2): ReLU(inplace=True)\n",
              "          (3): Conv2d(64, 64, kernel_size=(3, 3), stride=(1, 1), padding=(1, 1), bias=False)\n",
              "          (4): BatchNorm2d(64, eps=1e-05, momentum=0.1, affine=True, track_running_stats=True)\n",
              "          (5): ReLU(inplace=True)\n",
              "        )\n",
              "      )\n",
              "    )\n",
              "    (upconvolutions): ModuleList(\n",
              "      (0): ConvTranspose2d(1024, 512, kernel_size=(2, 2), stride=(2, 2))\n",
              "      (1): ConvTranspose2d(512, 256, kernel_size=(2, 2), stride=(2, 2))\n",
              "      (2): ConvTranspose2d(256, 128, kernel_size=(2, 2), stride=(2, 2))\n",
              "      (3): ConvTranspose2d(128, 64, kernel_size=(2, 2), stride=(2, 2))\n",
              "    )\n",
              "  )\n",
              "  (custom_layer): CustomLayer()\n",
              "  (head): Conv2d(64, 4, kernel_size=(1, 1), stride=(1, 1))\n",
              ")"
            ]
          },
          "metadata": {},
          "execution_count": 51
        }
      ],
      "source": [
        "model=torch.load(\"/content/drive/MyDrive/FYP-Aortic_Dissection_Segmentation/Full_dataset_saved_models/SummerResearch/custom_model-fulldataset_Seed7-10epochs(stopped))\")\n",
        "model.eval()\n",
        "\n",
        "#model2=torch.load(\"/content/drive/MyDrive/FYP-Aortic_Dissection_Segmentation/Full_dataset_saved_models/shuffled_trained_models/shuffled_trained_model-fulldataset_Seed7-50epochs\")\n",
        "#model2.eval()"
      ]
    },
    {
      "cell_type": "markdown",
      "metadata": {
        "id": "C-WEKxtT3qUr"
      },
      "source": [
        "# **Evaluating the model on the testing set:**"
      ]
    },
    {
      "cell_type": "code",
      "execution_count": 39,
      "metadata": {
        "colab": {
          "base_uri": "https://localhost:8080/"
        },
        "id": "QuJXTd3c3vHe",
        "outputId": "2af03221-fa4a-4dc9-a948-dca778f7d742"
      },
      "outputs": [
        {
          "output_type": "stream",
          "name": "stdout",
          "text": [
            "Length of test dataloader:  327\n",
            "Length of test dataset:  5236\n"
          ]
        }
      ],
      "source": [
        "test_path=\"/content/Prepared_Dataset/test\"\n",
        "\n",
        "test_transforms=transforms.Compose([transforms.Resize((128,128)),transforms.ToTensor()])\n",
        "\n",
        "test_dataset=CTADataset(os.path.join(test_path,\"images\"),os.path.join(test_path,\"masks\"),os.path.join(test_path,\"normalised_masks\"),transform=test_transforms)\n",
        "\n",
        "test_loader= DataLoader(test_dataset,batch_size=16,shuffle=True,drop_last=True)\n",
        "print(\"Length of test dataloader: \",len(test_loader))\n",
        "print(\"Length of test dataset: \",len(test_dataset))"
      ]
    },
    {
      "cell_type": "code",
      "execution_count": 63,
      "metadata": {
        "colab": {
          "base_uri": "https://localhost:8080/"
        },
        "collapsed": true,
        "id": "8d2bazptjqyZ",
        "outputId": "157b9d2d-e114-48ee-a9cd-2a79c6fdd498"
      },
      "outputs": [
        {
          "output_type": "stream",
          "name": "stderr",
          "text": [
            "100%|██████████| 327/327 [02:24<00:00,  2.26it/s]\n"
          ]
        },
        {
          "output_type": "stream",
          "name": "stdout",
          "text": [
            "[tensor(0.5535), tensor(0.9985), tensor(0.6247), tensor(0.5909), tensor(0.)]\n",
            "----------------------After end of testing------------------------------------------\n",
            "The mean IOU across 4 classes is:  tensor(0.5535)\n",
            "The mean IOU for class 0(Background) is:  tensor(0.9985)\n",
            "The mean IOU for class 1(TL) is:  tensor(0.6247)\n",
            "The mean IOU for class 2(FL) is:  tensor(0.5909)\n",
            "The mean IOU for class 3(FLT) is:  tensor(0.)\n",
            "[0.457106364820732, 0.9992610052091266, 0.7557699530861064, 1.4302618160073944e-10, 0.07339450084466848]\n",
            "\n",
            "\n",
            "The mean DCS across 4 classes is:  0.457106364820732\n",
            "The mean DCS for class 0(Background) is:  0.9992610052091266\n",
            "The mean DCS for class 1(FL) is:  0.7557699530861064\n",
            "The mean DCS for class 2(TL) is:  1.4302618160073944e-10\n",
            "The mean DCS for class 3(FLT) is:  0.07339450084466848\n"
          ]
        }
      ],
      "source": [
        "images_list=[]\n",
        "masks_list=[]\n",
        "image_path_list=[]\n",
        "mask_path_list=[]\n",
        "target_maps_list=[]\n",
        "predictions_list=[]\n",
        "predictions2_list=[]\n",
        "\n",
        "with torch.no_grad():\n",
        "\n",
        "  for (batch_index,(image,mask,normalisedmask,imagePath,maskPath)) in tqdm.tqdm(enumerate(test_loader),total=len(test_loader)):\n",
        "\n",
        "      #switching the data over to the GPU\n",
        "      image=image.to(device)\n",
        "      mask=mask.to(device)\n",
        "      mask=mask.long()\n",
        "      #somehow target_map becomes a tensor from a np array. values still remain the same (0,1,2)\n",
        "      #shape of target-> batch, 1(channel), width, height\n",
        "\n",
        "      '''target_map= torch.squeeze(target_map) #removing the 1 channel this is because CELoss expects form->[N, H, W]\n",
        "      #print(\"target_map dimension\",target_map.shape)\n",
        "      target_map=target_map.to(dtype=torch.long)\n",
        "      target_map=target_map.to(device) '''\n",
        "\n",
        "\n",
        "      #adding images and masks in this list to batch\n",
        "      images_list.append(image)\n",
        "      masks_list.append(mask)\n",
        "      image_path_list.append(imagePath)\n",
        "      mask_path_list.append(maskPath)\n",
        "\n",
        "      target_maps_list.append(normalisedmask)\n",
        "\n",
        "      predictions=model(image)\n",
        "      #predictions2=model2(image)\n",
        "\n",
        "      predictions_list.append(predictions)\n",
        "      #predictions2_list.append(predictions2)\n",
        "\n",
        "\n",
        "\n",
        "\n",
        "\n",
        "\n",
        "IOU_per_epoch=calc_IOU_for_epoch(predictions_list,masks_list)\n",
        "print(IOU_per_epoch)\n",
        "print(f\"----------------------After end of testing------------------------------------------\")\n",
        "print(f\"The mean IOU across 4 classes is: \",IOU_per_epoch[0])\n",
        "print(f\"The mean IOU for class 0(Background) is: \",IOU_per_epoch[1] )\n",
        "print(f\"The mean IOU for class 1(TL) is: \",IOU_per_epoch[2] )\n",
        "print(f\"The mean IOU for class 2(FL) is: \",IOU_per_epoch[3] )\n",
        "print(f\"The mean IOU for class 3(FLT) is: \",IOU_per_epoch[4] )\n",
        "\n",
        "'''calculate Dice Score per epoch'''\n",
        "DCS_per_epoch=calc_Dice_for_epoch(predictions_list,masks_list)\n",
        "\n",
        "print(DCS_per_epoch)\n",
        "print(\"\\n\")\n",
        "print(f\"The mean DCS across 4 classes is: \",DCS_per_epoch[0])\n",
        "print(f\"The mean DCS for class 0(Background) is: \",DCS_per_epoch[1] )\n",
        "print(f\"The mean DCS for class 1(FL) is: \",DCS_per_epoch[2] )\n",
        "print(f\"The mean DCS for class 2(TL) is: \",DCS_per_epoch[3] )\n",
        "print(f\"The mean DCS for class 3(FLT) is: \",DCS_per_epoch[4] )\n"
      ]
    },
    {
      "cell_type": "markdown",
      "metadata": {
        "id": "mHlRVougfXan"
      },
      "source": [
        "# **Visualising some of the predictions made**, along with input images."
      ]
    },
    {
      "cell_type": "code",
      "execution_count": 64,
      "metadata": {
        "colab": {
          "base_uri": "https://localhost:8080/",
          "height": 470
        },
        "id": "-6G4HU13fRWV",
        "outputId": "17786843-61f1-4467-9ae7-90a13e96b530"
      },
      "outputs": [
        {
          "output_type": "stream",
          "name": "stdout",
          "text": [
            "Input image\n"
          ]
        },
        {
          "output_type": "display_data",
          "data": {
            "text/plain": [
              "<Figure size 640x480 with 1 Axes>"
            ],
            "image/png": "[encoded data removed]"
          },
          "metadata": {}
        },
        {
          "output_type": "stream",
          "name": "stdout",
          "text": [
            "Expected mask\n"
          ]
        }
      ],
      "source": [
        "##displaying images,masks, labelled masks and predictions from test set\n",
        "list_index=60\n",
        "\n",
        "\n",
        "#getting a certain index of predictions,images and masks.\n",
        "image=images_list[list_index]\n",
        "mask= masks_list[list_index]\n",
        "predictions=predictions_list[list_index]\n",
        "target_map=target_maps_list[list_index]\n",
        "\n",
        "#to convert tensor to numpy array to plot, switch it from gpu to cpu\n",
        "mask=mask.cpu()\n",
        "predictions=predictions.cpu()\n",
        "\n",
        "\n",
        "image=image.cpu()\n",
        "target_map=target_map.cpu()\n",
        "\n",
        "batch=batch_size-1\n",
        "\n",
        "#taking a single image from the batch of images,\n",
        "#permuting it to display it and then displaying the input image using pyplot's imshow function.\n",
        "print(\"Input image\")\n",
        "image=image[batch][:][:][:]\n",
        "image=image.permute(1,2,0)\n",
        "plt.imshow(image.detach().numpy())\n",
        "plt.show()\n",
        "\n",
        "#reading in mask 1, from the batch of 32.\n",
        "#Also permuting it, so shape becomes [height,width,channel]\n",
        "print(\"Expected mask\")\n",
        "mask=mask[batch][:][:][:]\n",
        "#visualise_mask=mask.permute(1,2,0)\n",
        "\n"
      ]
    },
    {
      "cell_type": "code",
      "execution_count": 65,
      "metadata": {
        "colab": {
          "base_uri": "https://localhost:8080/",
          "height": 1000
        },
        "id": "3ujHxJtDr9XN",
        "outputId": "08665dc1-85fc-4ff3-a6b4-d8be363bae99"
      },
      "outputs": [
        {
          "output_type": "stream",
          "name": "stdout",
          "text": [
            "Ground truth target mask:\n",
            "<class 'torch.Tensor'>\n",
            "Image shape in visualiser_colab: torch.Size([128, 128, 3])\n",
            "Image is in a tensor format\n"
          ]
        },
        {
          "output_type": "display_data",
          "data": {
            "text/plain": [
              "<Figure size 640x480 with 1 Axes>"
            ],
            "image/png": "[encoded data removed]"
          },
          "metadata": {}
        },
        {
          "output_type": "stream",
          "name": "stdout",
          "text": [
            "The Model output mask\n",
            "predictions shape before being displayed:  torch.Size([4, 128, 128])\n",
            "Predictions shape after permuting it: torch.Size([128, 128, 4])\n",
            "tensor([-8.4540e+02, -8.4368e+02, -8.0378e+02,  ...,  6.7821e-01,\n",
            "         6.7822e-01,  6.7828e-01])\n"
          ]
        },
        {
          "output_type": "display_data",
          "data": {
            "text/plain": [
              "<Figure size 640x480 with 1 Axes>"
            ],
            "image/png": "[encoded data removed]"
          },
          "metadata": {}
        },
        {
          "output_type": "stream",
          "name": "stdout",
          "text": [
            "torch.Size([4, 128, 128])\n",
            "torch.Size([128, 128])\n",
            "Dice scores:\n",
            "[0.9991964101791382, 0.874015748500824, 1.4285714833306429e-09, 1.0]\n",
            "Visualising segments on the original CTA image\n"
          ]
        }
      ],
      "source": [
        "import cv2 as cv\n",
        "\n",
        "print(\"Ground truth target mask:\")\n",
        "individual_target_map=target_map[batch][:][:]\n",
        "visualise_target_map=individual_target_map.permute(1,2,0)\n",
        "visualiser_colab(visualise_target_map)\n",
        "\n",
        "print(\"The Model output mask\")\n",
        "#reading in prediction 1, from the batch of 32\n",
        "#also permuting it so shape becomes [height,width,channel]\n",
        "individual_prediction=predictions[batch][:][:][:]\n",
        "print(\"predictions shape before being displayed: \",individual_prediction.shape)\n",
        "\n",
        "#code to convert 4 channels to 3 channels (output is 4 channels because of 4 classes)\n",
        "#individual_prediction = individual_prediction[:3,:,:]\n",
        "prediction=individual_prediction.permute(1,2,0) #shape becomes 128,128,3\n",
        "\n",
        "print(\"Predictions shape after permuting it:\",prediction.shape)\n",
        "\n",
        "#NOTE: Issue printing out the images now, not sure why. Values being output by model doesn't seem to be rgb values.\n",
        "prediction_vis=cv.normalize(prediction.detach().numpy(), None, 0, 255, cv.NORM_MINMAX, cv.CV_8U)\n",
        "#plt.imshow(prediction_vis)\n",
        "#plt.show()\n",
        "\n",
        "\n",
        "# 4-channel image is stored in the variable 'prediction'\n",
        "# 'prediction' should have shape (height, width, 4)\n",
        "\n",
        "# Define a color map for each label\n",
        "label_colors = [\n",
        "    [0, 0, 0],        # Background (black)\n",
        "    [255, 0, 0],      # Label 1 (red)\n",
        "    [0, 255, 0],      # Label 2 (green)\n",
        "    [0, 0, 255],      # Label 3 (blue)\n",
        "]\n",
        "\n",
        "# Create an empty RGB image of dimension\n",
        "rgb_image = np.zeros((prediction.shape[0], prediction.shape[1], 3), dtype=np.uint8)\n",
        "\n",
        "#converting logits into probabilities\n",
        "'''prediction = torch.nn.functional.softmax(prediction, dim=1)\n",
        "prediction= (prediction > 0.5)\n",
        "\n",
        "print(\"Unique: \",np.unique(np.asarray(prediction)))'''\n",
        "print(torch.unique(prediction))\n",
        "# Overlay each label with its corresponding color\n",
        "for i in range(4):\n",
        "    label_mask = prediction[:, :, i] > 0  # Mask for the current label\n",
        "    rgb_image[label_mask] = label_colors[i]\n",
        "\n",
        "# Display the combined label image using pyplot.imshow()\n",
        "plt.imshow(rgb_image)\n",
        "plt.axis('off')\n",
        "plt.show()\n",
        "\n",
        "\n",
        "print(individual_prediction.shape)\n",
        "print(mask.shape)\n",
        "\n",
        "#converting pred dimension from channel,width,height to 1,channel,width,height\n",
        "#this is for it to work properly in the dcs function\n",
        "reshaped_pred= individual_prediction[None,:,:,:]\n",
        "print(\"Dice scores:\")\n",
        "print(multi_class_dice_coefficient(reshaped_pred,mask, 4))\n",
        "\n",
        "print(\"Visualising segments on the original CTA image\")\n",
        "\n"
      ]
    },
    {
      "cell_type": "markdown",
      "metadata": {
        "id": "8L0BVsWzgYTi"
      },
      "source": [
        "# **Evaluation of the model on the validation set**"
      ]
    },
    {
      "cell_type": "markdown",
      "metadata": {
        "id": "0ThKa_92bRpe"
      },
      "source": [
        "# Creation of the **Validation Dataset** and the Validation **DataLoader**"
      ]
    },
    {
      "cell_type": "code",
      "execution_count": null,
      "metadata": {
        "colab": {
          "base_uri": "https://localhost:8080/"
        },
        "id": "iPSY1O1dKi-7",
        "outputId": "37f7c6b3-8684-4eaf-a3c8-bf9a855aece4"
      },
      "outputs": [
        {
          "name": "stdout",
          "output_type": "stream",
          "text": [
            "Creating semantically labelled segmentation maps\n"
          ]
        }
      ],
      "source": [
        "#creating the validation and testing datasets.\n",
        "val_path=\"/content/Prepared_Dataset/val\"\n",
        "\n",
        "#specifying transforms-> resizing the image and converting it to a Tensor\n",
        "val_transforms=transforms.Compose([transforms.Resize((128,128)),transforms.ToTensor()])\n",
        "\n",
        "#creating the validation dataset and dataloader.\n",
        "val_dataset= CTADataset(os.path.join(val_path,\"images\"),os.path.join(val_path,\"masks\"),transform=val_transforms)\n",
        "\n",
        "\n",
        "\n"
      ]
    },
    {
      "cell_type": "code",
      "execution_count": null,
      "metadata": {
        "colab": {
          "base_uri": "https://localhost:8080/"
        },
        "id": "ecNTqzNf9b5o",
        "outputId": "5b44bb9b-eeaa-453b-9a6a-aa5349b2bb7a"
      },
      "outputs": [
        {
          "name": "stdout",
          "output_type": "stream",
          "text": [
            "Length of val loader:  331\n",
            "Length of val dataset:  5300\n"
          ]
        }
      ],
      "source": [
        "val_loader= DataLoader(val_dataset,batch_size=16,shuffle=True,drop_last=True)\n",
        "#loading in \"trained\" model\n",
        "print(\"Length of val loader: \",len(val_loader))\n",
        "print(\"Length of val dataset: \",len(val_dataset))\n"
      ]
    },
    {
      "cell_type": "code",
      "execution_count": null,
      "metadata": {
        "id": "PJyY7hl5qNYz"
      },
      "outputs": [],
      "source": [
        "\n",
        "\n",
        "val_image, val_mask,img_path,mask_path,val_target_map=val_dataset.__getitem__(555)\n",
        "plt.imshow(val_image.permute(1,2,0))\n",
        "plt.show()\n",
        "\n",
        "plt.imshow(val_mask.permute(1,2,0))\n",
        "plt.show()\n",
        "\n",
        "plt.imshow(np.squeeze(val_target_map))\n",
        "plt.show()\n",
        "\n",
        "resizer= torchvision.transforms.Resize(size=(128,128))\n",
        "val_image=resizer(val_image)\n",
        "val_image = val_image[None,:, :]\n",
        "print(\"val image shape after adding channel dimension\", val_image.shape)\n",
        "\n",
        "#prediction being made\n",
        "val_image=val_image.to(device)\n",
        "val_prediction=model(val_image)\n",
        "val_prediction=val_prediction.cpu()\n",
        "print(\"prediction shape\",val_prediction.shape)\n",
        "\n",
        "Dice=multi_class_dice_coefficient(val_prediction, torch.from_numpy(val_target_map), 3)\n",
        "print(\"\\nDice Score [background, tl,fl ]: \", Dice)\n",
        "\n",
        "val_prediction=torch.squeeze(val_prediction)\n",
        "val_prediction=val_prediction.permute(1,2,0)\n",
        "plt.imshow(val_prediction.detach().numpy())\n",
        "plt.show()\n",
        "\n",
        "\n"
      ]
    },
    {
      "cell_type": "code",
      "execution_count": null,
      "metadata": {
        "colab": {
          "base_uri": "https://localhost:8080/"
        },
        "id": "UNjdgDdIwtTx",
        "outputId": "17036de2-084e-443c-f471-d7448e7fdf19"
      },
      "outputs": [
        {
          "name": "stderr",
          "output_type": "stream",
          "text": [
            "100%|██████████| 331/331 [01:06<00:00,  4.96it/s]\n"
          ]
        },
        {
          "name": "stdout",
          "output_type": "stream",
          "text": [
            "[tensor(0.7292), tensor(0.9989), tensor(0.4783), tensor(0.7104)]\n",
            "----------------------After end of validation------------------------------------------\n",
            "The mean IOU across 3 classes is:  tensor(0.7292)\n",
            "The mean IOU for class 0(Background) is:  tensor(0.9989)\n",
            "The mean IOU for class 1(TL) is:  tensor(0.4783)\n",
            "The mean IOU for class 2(FL) is:  tensor(0.7104)\n",
            "[0.8224148649163356, 0.9994423891842545, 0.6383636533493722, 0.8294385522153802]\n",
            "\n",
            "\n",
            "The mean DCS across 3 classes is:  0.8224148649163356\n",
            "The mean DCS for class 0(Background) is:  0.9994423891842545\n",
            "The mean DCS for class 1(TL) is:  0.6383636533493722\n",
            "The mean DCS for class 2(FL) is:  0.8294385522153802\n"
          ]
        }
      ],
      "source": [
        "# testing model on validation set:\n",
        "images_list=[]\n",
        "masks_list=[]\n",
        "image_path_list=[]\n",
        "mask_path_list=[]\n",
        "predictions_list=[]\n",
        "target_maps_list=[]\n",
        "\n",
        "with torch.no_grad():\n",
        "  for (batch_index,(image,mask,imagePath,maskPath,target_map)) in tqdm.tqdm(enumerate(val_loader),total=len(val_loader)):\n",
        "\n",
        "      #switching the data over to the GPU\n",
        "      image=image.to(device)\n",
        "      #somehow target_map becomes a tensor from a np array. values still remain the same (0,1,2)\n",
        "      #shape of target-> batch, 1(channel), width, height\n",
        "\n",
        "      target_map= torch.squeeze(target_map) #removing the 1 channel this is because CELoss expects form->[N, H, W]\n",
        "      #print(\"target_map dimension\",target_map.shape)\n",
        "      target_map=target_map.to(dtype=torch.long)\n",
        "      target_map=target_map.to(device)\n",
        "\n",
        "\n",
        "      #adding images and masks in this list to batch\n",
        "      images_list.append(image)\n",
        "      masks_list.append(mask)\n",
        "      image_path_list.append(imagePath)\n",
        "      mask_path_list.append(maskPath)\n",
        "\n",
        "      target_maps_list.append(target_map)\n",
        "\n",
        "      predictions=model(image)\n",
        "      predictions_list.append(predictions)\n",
        "\n",
        "\n",
        "\n",
        "\n",
        "\n",
        "\n",
        "IOU_per_epoch=calc_IOU_for_epoch(predictions_list,target_maps_list)\n",
        "print(IOU_per_epoch)\n",
        "print(f\"----------------------After end of validation------------------------------------------\")\n",
        "print(f\"The mean IOU across 3 classes is: \",IOU_per_epoch[0])\n",
        "print(f\"The mean IOU for class 0(Background) is: \",IOU_per_epoch[1] )\n",
        "print(f\"The mean IOU for class 1(TL) is: \",IOU_per_epoch[2] )\n",
        "print(f\"The mean IOU for class 2(FL) is: \",IOU_per_epoch[3] )\n",
        "\n",
        "'''calculate Dice Score per epoch'''\n",
        "DCS_per_epoch=calc_Dice_for_epoch(predictions_list,target_maps_list)\n",
        "\n",
        "print(DCS_per_epoch)\n",
        "print(\"\\n\")\n",
        "print(f\"The mean DCS across 3 classes is: \",DCS_per_epoch[0])\n",
        "print(f\"The mean DCS for class 0(Background) is: \",DCS_per_epoch[1] )\n",
        "print(f\"The mean DCS for class 1(TL) is: \",DCS_per_epoch[2] )\n",
        "print(f\"The mean DCS for class 2(FL) is: \",DCS_per_epoch[3] )\n"
      ]
    },
    {
      "cell_type": "markdown",
      "metadata": {
        "id": "I-DPEjFRd7eT"
      },
      "source": [
        "# **Visualising some of the predictions made**, along with input images."
      ]
    },
    {
      "cell_type": "code",
      "execution_count": null,
      "metadata": {
        "id": "lMYlFxQ_5DLg"
      },
      "outputs": [],
      "source": [
        "#displaying images,masks, labelled masks and predictions from val set\n",
        "list_index=238\n",
        "image=images_list[list_index]\n",
        "\n",
        "#getting a certain index of predictions,images and masks.\n",
        "image=images_list[list_index]\n",
        "mask= masks_list[list_index]\n",
        "predictions=predictions_list[list_index]\n",
        "target_map=target_maps_list[list_index]\n",
        "\n",
        "#to convert tensor to numpy array to plot, switch it from gpu to cpu\n",
        "mask=mask.cpu()\n",
        "predictions=predictions.cpu()\n",
        "image=image.cpu()\n",
        "target_map=target_map.cpu()\n",
        "\n",
        "batch=batch_size-1\n",
        "\n",
        "#taking a single image from the batch of images,\n",
        "#permuting it to display it and then displaying the input image using pyplot's imshow function.\n",
        "print(\"Input image\")\n",
        "image=image[batch][:][:][:]\n",
        "image=image.permute(1,2,0)\n",
        "plt.imshow(image.detach().numpy())\n",
        "plt.show()\n",
        "\n",
        "#reading in mask 1, from the batch of 32.\n",
        "#Also permuting it, so shape becomes [height,width,channel]\n",
        "print(\"Expected mask\")\n",
        "mask=mask[batch][:][:][:]\n",
        "mask=mask.permute(1,2,0)\n",
        "plt.imshow(mask.detach().numpy())\n",
        "plt.show()\n",
        "\n",
        "\n",
        "print(\"Ground truth target mask passed into loss func:\")\n",
        "individual_target_map=target_map[batch][:][:]\n",
        "visualiser_colab(individual_target_map)\n",
        "print(\"The Model output mask\")\n",
        "\n",
        "#reading in prediction 1, from the batch of 32\n",
        "#also permuting it so shape becomes [height,width,channel]\n",
        "individual_prediction=predictions[batch][:][:][:]\n",
        "print(\"predictions shape before being displayed: \",individual_prediction.shape)\n",
        "individual_prediction=individual_prediction.permute(1,2,0) #shape becomes 128,128,3\n",
        "print(\"Predictions shape after permuting it:\",individual_prediction.shape)\n",
        "# predictions=transf(predictions)\n",
        "visualiser_colab(individual_prediction.detach().numpy())"
      ]
    }
  ],
  "metadata": {
    "accelerator": "GPU",
    "colab": {
      "machine_shape": "hm",
      "provenance": [],
      "include_colab_link": true
    },
    "kernelspec": {
      "display_name": "Python 3",
      "name": "python3"
    },
    "language_info": {
      "codemirror_mode": {
        "name": "ipython",
        "version": 3
      },
      "file_extension": ".py",
      "mimetype": "text/x-python",
      "name": "python",
      "nbconvert_exporter": "python",
      "pygments_lexer": "ipython3",
      "version": "3.8.3"
    },
    "vscode": {
      "interpreter": {
        "hash": "f49d0fc0e1a62c2e2d90b2c478c493e6e1789ab5d4aba8233aecb17a3c2190e7"
      }
    }
  },
  "nbformat": 4,
  "nbformat_minor": 0
}